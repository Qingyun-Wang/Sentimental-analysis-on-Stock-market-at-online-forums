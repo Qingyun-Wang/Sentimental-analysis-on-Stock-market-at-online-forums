{
 "cells": [
  {
   "cell_type": "markdown",
   "metadata": {},
   "source": [
    "# Twitter"
   ]
  },
  {
   "cell_type": "code",
   "execution_count": 1,
   "metadata": {},
   "outputs": [
    {
     "ename": "ModuleNotFoundError",
     "evalue": "No module named 'tweepy'",
     "output_type": "error",
     "traceback": [
      "\u001b[0;31m---------------------------------------------------------------------------\u001b[0m",
      "\u001b[0;31mModuleNotFoundError\u001b[0m                       Traceback (most recent call last)",
      "\u001b[1;32m/Users/qingyunwang/Dropbox/job/TheDataIncubator/capstone/data_collection.ipynb Cell 1\u001b[0m line \u001b[0;36m1\n\u001b[0;32m----> <a href='vscode-notebook-cell:/Users/qingyunwang/Dropbox/job/TheDataIncubator/capstone/data_collection.ipynb#W3sZmlsZQ%3D%3D?line=0'>1</a>\u001b[0m \u001b[39mimport\u001b[39;00m \u001b[39mtweepy\u001b[39;00m\n\u001b[1;32m      <a href='vscode-notebook-cell:/Users/qingyunwang/Dropbox/job/TheDataIncubator/capstone/data_collection.ipynb#W3sZmlsZQ%3D%3D?line=1'>2</a>\u001b[0m \u001b[39mimport\u001b[39;00m \u001b[39mdatetime\u001b[39;00m\n",
      "\u001b[0;31mModuleNotFoundError\u001b[0m: No module named 'tweepy'"
     ]
    }
   ],
   "source": [
    "import tweepy\n",
    "import datetime"
   ]
  },
  {
   "cell_type": "code",
   "execution_count": null,
   "metadata": {},
   "outputs": [],
   "source": [
    "\n",
    "# Authenticate to Twitter\n",
    "CONSUMER_KEY = 'YOUR_API_KEY'\n",
    "CONSUMER_SECRET = 'YOUR_API_SECRET_KEY'\n",
    "ACCESS_TOKEN = 'YOUR_ACCESS_TOKEN'\n",
    "ACCESS_TOKEN_SECRET = 'YOUR_ACCESS_TOKEN_SECRET'\n",
    "\n",
    "auth = tweepy.OAuth1UserHandler(\n",
    "    consumer_key=CONSUMER_KEY,\n",
    "    consumer_secret=CONSUMER_SECRET,\n",
    "    access_token=ACCESS_TOKEN,\n",
    "    access_token_secret=ACCESS_TOKEN_SECRET\n",
    ")\n",
    "\n",
    "api = tweepy.API(auth)\n",
    "\n",
    "# Define date range\n",
    "end_date = datetime.datetime.now() \n",
    "start_date = end_date - datetime.timedelta(days=7)\n",
    "\n",
    "# Search for tweets about Apple from the past week\n",
    "tweets = tweepy.Cursor(api.search, q=\"Apple\", since=start_date, until=end_date, lang=\"en\").items()\n",
    "\n",
    "# Print tweets\n",
    "for tweet in tweets:\n",
    "    print(tweet.text)\n"
   ]
  },
  {
   "cell_type": "code",
   "execution_count": null,
   "metadata": {},
   "outputs": [],
   "source": []
  },
  {
   "cell_type": "code",
   "execution_count": null,
   "metadata": {},
   "outputs": [],
   "source": []
  },
  {
   "cell_type": "markdown",
   "metadata": {},
   "source": [
    "# Reddit"
   ]
  },
  {
   "cell_type": "code",
   "execution_count": 1,
   "metadata": {},
   "outputs": [],
   "source": [
    "import praw\n",
    "from datetime import datetime, timedelta\n",
    "import pandas as pd\n",
    "import csv\n",
    "import time\n",
    "import nltk\n",
    "from nltk.tokenize import word_tokenize\n",
    "from nltk.corpus import stopwords, wordnet\n",
    "from nltk.stem import WordNetLemmatizer\n",
    "import re, os\n",
    "\n"
   ]
  },
  {
   "cell_type": "markdown",
   "metadata": {},
   "source": [
    "#### set up token and test"
   ]
  },
  {
   "cell_type": "code",
   "execution_count": 3,
   "metadata": {},
   "outputs": [],
   "source": [
    "os.environ.get('client_id')\n"
   ]
  },
  {
   "cell_type": "code",
   "execution_count": 2,
   "metadata": {},
   "outputs": [
    {
     "name": "stdout",
     "output_type": "stream",
     "text": [
      "COMMAND_MODE: unix2003\n",
      "CONDA_DEFAULT_ENV: base\n",
      "CONDA_EXE: /Users/qingyunwang/anaconda3/bin/conda\n",
      "CONDA_PREFIX: /Users/qingyunwang/anaconda3\n",
      "CONDA_PROMPT_MODIFIER: (base) \n",
      "CONDA_PYTHON_EXE: /Users/qingyunwang/anaconda3/bin/python\n",
      "CONDA_SHLVL: 1\n",
      "DISPLAY: /private/tmp/com.apple.launchd.NuyDNrt8fV/org.macosforge.xquartz:0\n",
      "HOME: /Users/qingyunwang\n",
      "LOGNAME: qingyunwang\n",
      "MallocNanoZone: 0\n",
      "OLDPWD: /\n",
      "ORIGINAL_XDG_CURRENT_DESKTOP: undefined\n",
      "PATH: /Users/qingyunwang/Dropbox/job/TheDataIncubator/capstone/venv/bin:/Users/qingyunwang/anaconda3/bin:/Users/qingyunwang/anaconda3/condabin:/usr/local/bin:/System/Cryptexes/App/usr/bin:/usr/bin:/bin:/usr/sbin:/sbin:/Library/TeX/texbin:/opt/X11/bin:/Library/Apple/usr/bin:/var/run/com.apple.security.cryptexd/codex.system/bootstrap/usr/local/bin:/var/run/com.apple.security.cryptexd/codex.system/bootstrap/usr/bin:/var/run/com.apple.security.cryptexd/codex.system/bootstrap/usr/appleinternal/bin:/Users/qingyunwang/.rvm/bin:/Users/qingyunwang/.rvm/bin\n",
      "PWD: /\n",
      "SHELL: /bin/zsh\n",
      "SHLVL: 1\n",
      "SSH_AUTH_SOCK: /private/tmp/com.apple.launchd.6XaatuPnYM/Listeners\n",
      "TMPDIR: /var/folders/pm/r6_hpq8j4hq4ppcc7_7yt1nh0000gn/T/\n",
      "USER: qingyunwang\n",
      "VSCODE_AMD_ENTRYPOINT: vs/workbench/api/node/extensionHostProcess\n",
      "VSCODE_CODE_CACHE_PATH: /Users/qingyunwang/Library/Application Support/Code/CachedData/af28b32d7e553898b2a91af498b1fb666fdebe0c\n",
      "VSCODE_CRASH_REPORTER_PROCESS_TYPE: extensionHost\n",
      "VSCODE_CWD: /\n",
      "VSCODE_HANDLES_UNCAUGHT_ERRORS: true\n",
      "VSCODE_IPC_HOOK: /Users/qingyunwang/Library/Application Support/Code/1.85-main.sock\n",
      "VSCODE_NLS_CONFIG: {\"locale\":\"en-us\",\"osLocale\":\"en-us\",\"availableLanguages\":{},\"_languagePackSupport\":true}\n",
      "VSCODE_PID: 26503\n",
      "XPC_FLAGS: 0x0\n",
      "XPC_SERVICE_NAME: 0\n",
      "_: /Users/qingyunwang/Dropbox/job/TheDataIncubator/capstone/venv/bin/python\n",
      "__CFBundleIdentifier: com.microsoft.VSCode\n",
      "__CF_USER_TEXT_ENCODING: 0x1F5:0x0:0x0\n",
      "rvm_bin_path: /Users/qingyunwang/.rvm/bin\n",
      "rvm_path: /Users/qingyunwang/.rvm\n",
      "rvm_prefix: /Users/qingyunwang\n",
      "rvm_version: 1.29.12 (latest)\n",
      "ELECTRON_RUN_AS_NODE: 1\n",
      "VSCODE_L10N_BUNDLE_LOCATION: \n",
      "PYTHONUNBUFFERED: 1\n",
      "PYTHONIOENCODING: utf-8\n",
      "VIRTUAL_ENV: /Users/qingyunwang/Dropbox/job/TheDataIncubator/capstone/venv\n",
      "PS1: (venv) \n",
      "LC_CTYPE: UTF-8\n",
      "PYDEVD_IPYTHON_COMPATIBLE_DEBUGGING: 1\n",
      "PYDEVD_USE_FRAME_EVAL: NO\n",
      "TERM: xterm-color\n",
      "CLICOLOR: 1\n",
      "FORCE_COLOR: 1\n",
      "CLICOLOR_FORCE: 1\n",
      "PAGER: cat\n",
      "GIT_PAGER: cat\n",
      "MPLBACKEND: module://matplotlib_inline.backend_inline\n"
     ]
    }
   ],
   "source": [
    "for key, value in os.environ.items():\n",
    "    print(f\"{key}: {value}\")\n"
   ]
  },
  {
   "cell_type": "code",
   "execution_count": null,
   "metadata": {},
   "outputs": [],
   "source": [
    "client_id = os.getenv(\"reddit_id\")\n",
    "client_secret = os.getenv(\"client_secret\")\n",
    "user_agent = os.getenv(\"user_agent\")"
   ]
  },
  {
   "cell_type": "code",
   "execution_count": null,
   "metadata": {},
   "outputs": [],
   "source": []
  },
  {
   "cell_type": "code",
   "execution_count": 5,
   "metadata": {},
   "outputs": [],
   "source": [
    "\n",
    "# Authentication\n",
    "reddit = praw.Reddit(\n",
    "    client_id=\"bOUU3GVPswoqHAeWY-WB5g\",\n",
    "    client_secret=\"65G2ItcdbqJZU9pmGBC6303fYV-QJg\",\n",
    "    user_agent=\"script:sentimental_analysis:v1.0 (by /u/Legal_Advertising127)\"\n",
    "  #  username=''\n",
    ")\n",
    "\n",
    "subreddit = reddit.subreddit(\"python\")"
   ]
  },
  {
   "cell_type": "markdown",
   "metadata": {},
   "source": [
    "#### collect data"
   ]
  },
  {
   "cell_type": "code",
   "execution_count": 77,
   "metadata": {},
   "outputs": [],
   "source": [
    "def rate_limited_request(subreddits, companies, effective_period, post_limit=50, comment_limit=20):\n",
    "    data = []\n",
    "    for subreddit_name in subreddits:\n",
    "        subreddit = reddit.subreddit(subreddit_name)\n",
    "        for company in companies:\n",
    "            retry_wait = 20  # Initial wait time for 10 seconds\n",
    "            while True:\n",
    "                try:\n",
    "                    count_post = 0\n",
    "                    for post in subreddit.search(str(company), time_filter=effective_period):\n",
    "                        post_time = datetime.utcfromtimestamp(post.created_utc).strftime('%Y-%m-%d')\n",
    "                        data.append([post.title + \"\\n\" + post.selftext, post_time, company])\n",
    "                        count_post += 1\n",
    "                        count_comment = 0\n",
    "\n",
    "                        try:\n",
    "                            post.comments.replace_more(limit=0)\n",
    "                            for comment in post.comments:\n",
    "                                comment_time = datetime.utcfromtimestamp(comment.created_utc).strftime('%Y-%m-%d')\n",
    "                                data.append([comment.body, comment_time, company])\n",
    "                                count_comment += 1\n",
    "                                if count_comment > comment_limit:\n",
    "                                    break\n",
    "                        except praw.exceptions.RedditAPIException as e:\n",
    "                            print(f\"Error fetching comments: {e}\")\n",
    "                            time.sleep(retry_wait)\n",
    "                            retry_wait *= 2  # Exponential backoff\n",
    "\n",
    "                        if count_post > post_limit:\n",
    "                            break\n",
    "                    break  # Break the while loop if no exception occurred\n",
    "                except praw.exceptions.RedditAPIException as e:\n",
    "                    print(f\"Rate limit exceeded: {e}\")\n",
    "                    time.sleep(retry_wait)\n",
    "                    retry_wait *= 2  # Exponential backoff\n",
    "    return data\n",
    "\n",
    "def collect_data_reddit(companies, effective_preriod):\n",
    "    # List of stock market-related subreddits\n",
    "    subreddits = [\"stocks\", \"investing\", \"wallstreetbets\", \"StockMarket\", \"options\", \"SecurityAnalysis\", \"Daytrading\"]\n",
    "    data = rate_limited_request(subreddits, companies, effective_preriod)\n",
    "    return data\n"
   ]
  },
  {
   "cell_type": "code",
   "execution_count": 78,
   "metadata": {},
   "outputs": [],
   "source": [
    "\n",
    "# Function to get wordnet POS tag\n",
    "def get_wordnet_pos(word):\n",
    "    \"\"\"Map POS tag to first character lemmatize() accepts\"\"\"\n",
    "    tag = nltk.pos_tag([word])[0][1][0].upper()\n",
    "    tag_dict = {\"J\": wordnet.ADJ,\n",
    "                \"N\": wordnet.NOUN,\n",
    "                \"V\": wordnet.VERB,\n",
    "                \"R\": wordnet.ADV}\n",
    "\n",
    "    return tag_dict.get(tag, wordnet.NOUN)\n",
    "\n",
    "def clean_text(text):\n",
    "    # Initialize the lemmatizer\n",
    "    lemmatizer = WordNetLemmatizer()\n",
    "\n",
    "    # Tokenize the text\n",
    "    tokens = word_tokenize(text)\n",
    "\n",
    "    # Get English stop words\n",
    "    stop_words = set(stopwords.words('english'))\n",
    "\n",
    "    # Filter out the stop words, non-letter tokens, and lemmatize\n",
    "    filtered_text = [lemmatizer.lemmatize(word, get_wordnet_pos(word)) for word in tokens if word.isalpha() and word.lower() not in stop_words]\n",
    "    #filtered_text = [lemmatizer.lemmatize(word, get_wordnet_pos(word)) for word in tokens if word.lower() not in stop_words]\n",
    "\n",
    "\n",
    "    # Rejoin filtered text\n",
    "    filtered_sentence = ' '.join(filtered_text)\n",
    "\n",
    "    return filtered_sentence"
   ]
  },
  {
   "cell_type": "code",
   "execution_count": 79,
   "metadata": {},
   "outputs": [],
   "source": [
    "def save_to_csv_reddit(data, file_name):\n",
    "    df = pd.DataFrame(data, columns=[\"Text\", \"Date\", \"Company\"])\n",
    "    df['Text'] = df['Text'].apply(clean_text)\n",
    "    df = df.groupby(['Company','Date']).agg({\"Text\": lambda x: ' '.join(x.astype(str))}).reset_index()\n",
    "    df = df[df['Text']!=\"\"]\n",
    "    save_file_name = 'data/reddit_'+file_name+'.csv'\n",
    "    df.to_csv(save_file_name)\n"
   ]
  },
  {
   "cell_type": "code",
   "execution_count": 86,
   "metadata": {},
   "outputs": [],
   "source": [
    "def clean_company_name(text):\n",
    "    terms = ['Inc\\.', 'Corporation', 'Company', 'plc', 'Limited', ',', 'and', '\\.com', 'A/S', 'PLC', \"'s\"]\n",
    "    pattern = r'(?:' + '|'.join(terms) + ')'\n",
    "    # Replace the matched terms with an empty string\n",
    "    cleaned_text = re.sub(pattern, '', text)\n",
    "    return cleaned_text\n",
    "def generate_top_100_company_name(path):\n",
    "    companies_100 = pd.read_csv(path, index_col=0)\n",
    "    companies_100['Company'] = companies_100['Company Name'].apply(clean_company_name).apply(lambda x: x.strip())\n",
    "    companies = list(companies_100['Company'].values)\n",
    "    return companies"
   ]
  },
  {
   "cell_type": "code",
   "execution_count": 96,
   "metadata": {},
   "outputs": [],
   "source": [
    "def source_company_post_to_csv_TOP100(path_to_100, period):\n",
    "\n",
    "    companies = generate_top_100_company_name(path_to_100)\n",
    "    data1 = collect_data_reddit(companies[:20], period)\n",
    "    data2 = collect_data_reddit(companies[20:40], period)\n",
    "    time.sleep(300)\n",
    "    data3 = collect_data_reddit(companies[40:60], period)\n",
    "    data4 = collect_data_reddit(companies[40:80], period)\n",
    "    time.sleep(300)\n",
    "    data5 = collect_data_reddit(companies[80:100], period)\n",
    "    data = data1+data2+data3+data4+data5\n",
    "    save_to_csv_reddit(data,\"fetched_post_top_100\")\n",
    "    "
   ]
  },
  {
   "cell_type": "code",
   "execution_count": 97,
   "metadata": {},
   "outputs": [],
   "source": [
    "source_company_post_to_csv_TOP100(\"data/top100_companies_data.csv\",\"month\")"
   ]
  },
  {
   "cell_type": "code",
   "execution_count": 194,
   "metadata": {},
   "outputs": [],
   "source": [
    "def update_today_post_top100(previous_post_path, path_to_100):\n",
    "    \"\"\"\n",
    "    update with the new post from last update\n",
    "    \"\"\"\n",
    "    previous_data = pd.read_csv(previous_post_path, index_col=0)\n",
    "    last_date_string = previous_data[\"Date\"].max()\n",
    "    last_date_time = datetime.strptime(last_date_string, '%Y-%m-%d')\n",
    "    today_time = datetime.today()\n",
    "    day_diff = (today_time - last_date_time).days\n",
    "    if day_diff>0:\n",
    "        if day_diff <=1:\n",
    "            update_period = \"day\"\n",
    "            sleep_time = 60\n",
    "            #date_one_days_ago = today_time - timedelta(days=1)\n",
    "            # Convert the date back to a string\n",
    "            today_time_string = today_time.strftime('%Y-%m-%d')\n",
    "            previous_data_correted = previous_data[previous_data['Date']< today_time_string]\n",
    "\n",
    "        elif day_diff <= 7 and day_diff > 1:\n",
    "            update_period = \"week\"\n",
    "            sleep_time = 120\n",
    "            # Subtract 7 days\n",
    "            date_seven_days_ago = today_time - timedelta(days=7)\n",
    "            # Convert the date back to a string\n",
    "            date_seven_days_ago_str = date_seven_days_ago.strftime('%Y-%m-%d')\n",
    "            previous_data_correted = previous_data[previous_data['Date']< date_seven_days_ago_str]\n",
    "\n",
    "        elif day_diff>7 and day_diff<=30:\n",
    "            update_period = 'month'\n",
    "            sleep_time = 300\n",
    "            date_30_days_ago = today_time - timedelta(days=30)\n",
    "            # Convert the date back to a string\n",
    "            date_30_days_ago = date_30_days_ago.strftime('%Y-%m-%d')\n",
    "            previous_data_correted = previous_data[previous_data['Date']< date_30_days_ago]\n",
    "\n",
    "        \n",
    "        companies = generate_top_100_company_name(path_to_100)\n",
    "        print('start fetch', update_period)\n",
    "        data1 = collect_data_reddit(companies[:20], update_period)\n",
    "        data2 = collect_data_reddit(companies[20:40], update_period)\n",
    "        print('fetchign -1', f\"sleep at {datetime.today()}\")\n",
    "        time.sleep(sleep_time)\n",
    "        print(\"end sleep\", f\"wakeup at {datetime.today()}\")\n",
    "        data3 = collect_data_reddit(companies[40:60], update_period)\n",
    "        data4 = collect_data_reddit(companies[40:80], update_period)\n",
    "        print('fetchign -2')\n",
    "        time.sleep(sleep_time)\n",
    "        data5 = collect_data_reddit(companies[80:100], update_period)\n",
    "        print('fetched')\n",
    "        data = data1+data2+data3+data4+data5\n",
    "        df = pd.DataFrame(data, columns=[\"Text\", \"Date\", \"Company\"])\n",
    "        df['Text'] = df['Text'].apply(clean_text)\n",
    "        df = df.groupby(['Company','Date']).agg({\"Text\": lambda x: ' '.join(x.astype(str))}).reset_index()\n",
    "        df = df[df['Text']!=\"\"]\n",
    "\n",
    "        data_updated = pd.concat([previous_data_correted, df])\n",
    "\n",
    "        save_to_csv_reddit(data_updated,\"reddit_fetched_post_top_100\")\n",
    "\n",
    "            "
   ]
  }
 ],
 "metadata": {
  "kernelspec": {
   "display_name": "venv",
   "language": "python",
   "name": "python3"
  },
  "language_info": {
   "codemirror_mode": {
    "name": "ipython",
    "version": 3
   },
   "file_extension": ".py",
   "mimetype": "text/x-python",
   "name": "python",
   "nbconvert_exporter": "python",
   "pygments_lexer": "ipython3",
   "version": "3.9.7"
  }
 },
 "nbformat": 4,
 "nbformat_minor": 2
}
