{
 "cells": [
  {
   "cell_type": "markdown",
   "metadata": {},
   "source": [
    "# Transformers"
   ]
  },
  {
   "cell_type": "code",
   "execution_count": null,
   "metadata": {},
   "outputs": [],
   "source": []
  },
  {
   "cell_type": "code",
   "execution_count": null,
   "metadata": {},
   "outputs": [],
   "source": []
  },
  {
   "cell_type": "markdown",
   "metadata": {},
   "source": [
    "# Nltk engine"
   ]
  },
  {
   "cell_type": "code",
   "execution_count": 33,
   "metadata": {},
   "outputs": [
    {
     "data": {
      "text/plain": [
       "True"
      ]
     },
     "execution_count": 33,
     "metadata": {},
     "output_type": "execute_result"
    }
   ],
   "source": [
    "import pandas as pd\n",
    "from nltk.sentiment import SentimentIntensityAnalyzer\n",
    "from datetime import datetime, timedelta\n",
    "import nltk\n",
    "\n",
    "nltk.download('vader_lexicon', quiet=True)\n"
   ]
  },
  {
   "cell_type": "code",
   "execution_count": 4,
   "metadata": {},
   "outputs": [],
   "source": [
    "def load_csv(path):\n",
    "    data = pd.read_csv(path, index_col=0)\n",
    "    return data\n",
    "\n",
    "def get_raw_scored(path):\n",
    "    sia = SentimentIntensityAnalyzer()\n",
    "    data = load_csv(path)\n",
    "    data['score'] = data['Text'].apply(sia.polarity_scores).apply(lambda x: x['compound'])\n",
    "    return data\n",
    "\n",
    "def calculate_ema(group, history, alpha):\n",
    "    if not history:\n",
    "        return group.ewm(alpha=alpha).mean().iloc[-1]\n",
    "    else:\n",
    "        return group.ewm(alpha=alpha).mean()"
   ]
  },
  {
   "cell_type": "code",
   "execution_count": 5,
   "metadata": {},
   "outputs": [],
   "source": [
    "def get_ewm_score(df, df_100_emavg, his=False, alpha_value = 0.3):\n",
    "    # Function to apply EMA on each group and return a single value\n",
    "\n",
    "    ema_result = df.groupby('Company')['score'].apply(lambda x: calculate_ema(x, his, alpha_value))\n",
    "    if not his:\n",
    "        data_pre = {\"Company\": ema_result.index, \"score\": ema_result.values}\n",
    "        new_row = pd.DataFrame({'Company': ['Top_100_avg'], 'score': df_100_emavg.values[-1]})\n",
    "    else:\n",
    "        data_pre = {\"Company\": [ele[0] for ele in ema_result.index.values],'Date':df['Date'], \"score\": ema_result.values}\n",
    "        new_row = pd.DataFrame({'Company': ['Top_100_avg']*len(df_100_emavg), 'Date':df_100_emavg.index.values, 'score': df_100_emavg.values[:,0]})\n",
    "\n",
    "    df_emavg = pd.DataFrame(data_pre)\n",
    "    df_emavg = pd.concat([df_emavg, new_row], ignore_index=True)\n",
    "    \n",
    "    return df_emavg"
   ]
  },
  {
   "cell_type": "code",
   "execution_count": 6,
   "metadata": {},
   "outputs": [],
   "source": [
    "def save_score(df, name = \"fetched_post_score\"):\n",
    "\n",
    "    save_file_name = 'data/reddit_'+ name +'.csv'\n",
    "\n",
    "    df.to_csv(save_file_name)"
   ]
  },
  {
   "cell_type": "code",
   "execution_count": 7,
   "metadata": {},
   "outputs": [
    {
     "data": {
      "text/plain": [
       "'\\ndef create_score_top100_company(path, alpha_value):\\n    df_100 = get_raw_scored(path)\\n    df_100_emavg = df_100.groupby(\\'Date\\')[\\'score\\'].apply(lambda x: calculate_ema(x, False, alpha_value))\\n    save_score(df_100_emavg, \"tope100_score\")\\n\\ndef create_scored_data_single_company(path, path_to_top_100 ,alpha_value=0.3):\\n    df_100_emavg = pd.read_csv(path_to_top_100, index_col=0)\\n    df = get_raw_scored(path)\\n    df_emavg=get_ewm_score(df, df_100_emavg, True, alpha_value=alpha_value)\\n    save_score(df_emavg)\\n    return df_emavg\\n\\ndef create_scored_data_multi_company(path, path_to_top_100, alpha_value=0.3):\\n    df_100_emavg = pd.read_csv(path_to_top_100, index_col=0)\\n    df = get_raw_scored(path)\\n    df_emavg=get_ewm_score(df, df_100_emavg, False, alpha_value=alpha_value)\\n    save_score(df_emavg)\\n    return df_emavg\\n'"
      ]
     },
     "execution_count": 7,
     "metadata": {},
     "output_type": "execute_result"
    }
   ],
   "source": [
    "\"\"\"\n",
    "def create_score_top100_company(path, alpha_value):\n",
    "    df_100 = get_raw_scored(path)\n",
    "    df_100_emavg = df_100.groupby('Date')['score'].apply(lambda x: calculate_ema(x, False, alpha_value))\n",
    "    save_score(df_100_emavg, \"tope100_score\")\n",
    "\n",
    "def create_scored_data_single_company(path, path_to_top_100 ,alpha_value=0.3):\n",
    "    df_100_emavg = pd.read_csv(path_to_top_100, index_col=0)\n",
    "    df = get_raw_scored(path)\n",
    "    df_emavg=get_ewm_score(df, df_100_emavg, True, alpha_value=alpha_value)\n",
    "    save_score(df_emavg)\n",
    "    return df_emavg\n",
    "\n",
    "def create_scored_data_multi_company(path, path_to_top_100, alpha_value=0.3):\n",
    "    df_100_emavg = pd.read_csv(path_to_top_100, index_col=0)\n",
    "    df = get_raw_scored(path)\n",
    "    df_emavg=get_ewm_score(df, df_100_emavg, False, alpha_value=alpha_value)\n",
    "    save_score(df_emavg)\n",
    "    return df_emavg\n",
    "\"\"\"\n"
   ]
  },
  {
   "cell_type": "code",
   "execution_count": 70,
   "metadata": {},
   "outputs": [],
   "source": [
    "# get the ewme score for the top 100 together\n",
    "def create_avg_score_top100_company(path, alpha_value):\n",
    "    df_100 = get_raw_scored(path)\n",
    "    df_100_mean = df_100.groupby('Date')['score'].mean()\n",
    "    df_100_emavg = df_100_mean.ewm(alpha=alpha_value).mean()\n",
    "    df_100_emavg.to_csv(\"data/reddit_fetched_post_top100_avg_score.csv\")\n",
    "\n",
    "# get ewme score for the requested company\n",
    "def create_scored_data_history(path, path_to_top_100, history=True, alpha_value=0.3):\n",
    "    df_100_emavg = pd.read_csv(path_to_top_100, index_col=0)\n",
    "    df = get_raw_scored(path)\n",
    "    df_emavg=get_ewm_score(df, df_100_emavg, history, alpha_value=alpha_value)\n",
    "    save_score(df_emavg)\n",
    "    return df_emavg\n",
    "\n",
    "# get the ewme score for each top 100 company\n",
    "def create_recommendation_top100(path, path_to_top_100, history=False, alpha_value=0.3):\n",
    "    df_100_emavg = pd.read_csv(path_to_top_100, index_col=0)\n",
    "    df = get_raw_scored(path)\n",
    "    \n",
    "    # only consider the score up to last day, since later we will use this score to compare with today's stock price return\n",
    "    last_date_string = df[\"Date\"].max()\n",
    "    last_date_time = datetime.strptime(last_date_string, '%Y-%m-%d')- timedelta(days=1)\n",
    "    last_date_time_str = last_date_time.strftime('%Y-%m-%d')\n",
    "    df = df[df['Date']< last_date_time_str]\n",
    "\n",
    "    df_emavg=get_ewm_score(df, df_100_emavg, history, alpha_value=alpha_value)\n",
    "    save_score(df_emavg, name = \"fetched_post_top_100_score\")\n",
    "    return df_emavg"
   ]
  },
  {
   "cell_type": "code",
   "execution_count": 74,
   "metadata": {},
   "outputs": [],
   "source": [
    "create_avg_score_top100_company('data/reddit_fetched_post_top_100.csv', .3)"
   ]
  },
  {
   "cell_type": "code",
   "execution_count": 41,
   "metadata": {},
   "outputs": [
    {
     "data": {
      "text/html": [
       "<div>\n",
       "<style scoped>\n",
       "    .dataframe tbody tr th:only-of-type {\n",
       "        vertical-align: middle;\n",
       "    }\n",
       "\n",
       "    .dataframe tbody tr th {\n",
       "        vertical-align: top;\n",
       "    }\n",
       "\n",
       "    .dataframe thead th {\n",
       "        text-align: right;\n",
       "    }\n",
       "</style>\n",
       "<table border=\"1\" class=\"dataframe\">\n",
       "  <thead>\n",
       "    <tr style=\"text-align: right;\">\n",
       "      <th></th>\n",
       "      <th>Company</th>\n",
       "      <th>score</th>\n",
       "    </tr>\n",
       "  </thead>\n",
       "  <tbody>\n",
       "    <tr>\n",
       "      <th>0</th>\n",
       "      <td>ASML Holding N.V.</td>\n",
       "      <td>0.411151</td>\n",
       "    </tr>\n",
       "    <tr>\n",
       "      <th>1</th>\n",
       "      <td>AT&amp;T</td>\n",
       "      <td>0.999828</td>\n",
       "    </tr>\n",
       "    <tr>\n",
       "      <th>2</th>\n",
       "      <td>AbbVie</td>\n",
       "      <td>0.371721</td>\n",
       "    </tr>\n",
       "    <tr>\n",
       "      <th>3</th>\n",
       "      <td>Abbott Laboratories</td>\n",
       "      <td>0.975000</td>\n",
       "    </tr>\n",
       "    <tr>\n",
       "      <th>4</th>\n",
       "      <td>Accenture</td>\n",
       "      <td>0.996400</td>\n",
       "    </tr>\n",
       "    <tr>\n",
       "      <th>...</th>\n",
       "      <td>...</td>\n",
       "      <td>...</td>\n",
       "    </tr>\n",
       "    <tr>\n",
       "      <th>76</th>\n",
       "      <td>Verizon Communications</td>\n",
       "      <td>-0.168024</td>\n",
       "    </tr>\n",
       "    <tr>\n",
       "      <th>77</th>\n",
       "      <td>Visa</td>\n",
       "      <td>0.760831</td>\n",
       "    </tr>\n",
       "    <tr>\n",
       "      <th>78</th>\n",
       "      <td>Walmart</td>\n",
       "      <td>0.427623</td>\n",
       "    </tr>\n",
       "    <tr>\n",
       "      <th>79</th>\n",
       "      <td>Wells Fargo &amp;</td>\n",
       "      <td>0.998424</td>\n",
       "    </tr>\n",
       "    <tr>\n",
       "      <th>80</th>\n",
       "      <td>Top_100_avg</td>\n",
       "      <td>0.550801</td>\n",
       "    </tr>\n",
       "  </tbody>\n",
       "</table>\n",
       "<p>81 rows × 2 columns</p>\n",
       "</div>"
      ],
      "text/plain": [
       "                   Company     score\n",
       "0        ASML Holding N.V.  0.411151\n",
       "1                     AT&T  0.999828\n",
       "2                   AbbVie  0.371721\n",
       "3      Abbott Laboratories  0.975000\n",
       "4                Accenture  0.996400\n",
       "..                     ...       ...\n",
       "76  Verizon Communications -0.168024\n",
       "77                    Visa  0.760831\n",
       "78                 Walmart  0.427623\n",
       "79           Wells Fargo &  0.998424\n",
       "80             Top_100_avg  0.550801\n",
       "\n",
       "[81 rows x 2 columns]"
      ]
     },
     "execution_count": 41,
     "metadata": {},
     "output_type": "execute_result"
    }
   ],
   "source": [
    "create_recommendation_top100('data/reddit_fetched_post_top_100.csv',\"data/reddit_fetched_post_top100_avg_score.csv\")"
   ]
  },
  {
   "cell_type": "code",
   "execution_count": 76,
   "metadata": {},
   "outputs": [
    {
     "data": {
      "text/html": [
       "<div>\n",
       "<style scoped>\n",
       "    .dataframe tbody tr th:only-of-type {\n",
       "        vertical-align: middle;\n",
       "    }\n",
       "\n",
       "    .dataframe tbody tr th {\n",
       "        vertical-align: top;\n",
       "    }\n",
       "\n",
       "    .dataframe thead th {\n",
       "        text-align: right;\n",
       "    }\n",
       "</style>\n",
       "<table border=\"1\" class=\"dataframe\">\n",
       "  <thead>\n",
       "    <tr style=\"text-align: right;\">\n",
       "      <th></th>\n",
       "      <th>Company</th>\n",
       "      <th>Date</th>\n",
       "      <th>score</th>\n",
       "    </tr>\n",
       "  </thead>\n",
       "  <tbody>\n",
       "    <tr>\n",
       "      <th>0</th>\n",
       "      <td>Alphabet</td>\n",
       "      <td>2023-11-14</td>\n",
       "      <td>0.998800</td>\n",
       "    </tr>\n",
       "    <tr>\n",
       "      <th>1</th>\n",
       "      <td>Alphabet</td>\n",
       "      <td>2023-11-15</td>\n",
       "      <td>0.998388</td>\n",
       "    </tr>\n",
       "    <tr>\n",
       "      <th>2</th>\n",
       "      <td>Alphabet</td>\n",
       "      <td>2023-11-16</td>\n",
       "      <td>0.853371</td>\n",
       "    </tr>\n",
       "    <tr>\n",
       "      <th>3</th>\n",
       "      <td>Alphabet</td>\n",
       "      <td>2023-11-18</td>\n",
       "      <td>0.908140</td>\n",
       "    </tr>\n",
       "    <tr>\n",
       "      <th>4</th>\n",
       "      <td>Alphabet</td>\n",
       "      <td>2023-11-19</td>\n",
       "      <td>0.234078</td>\n",
       "    </tr>\n",
       "    <tr>\n",
       "      <th>...</th>\n",
       "      <td>...</td>\n",
       "      <td>...</td>\n",
       "      <td>...</td>\n",
       "    </tr>\n",
       "    <tr>\n",
       "      <th>87</th>\n",
       "      <td>Top_100_avg</td>\n",
       "      <td>2023-12-10</td>\n",
       "      <td>0.688651</td>\n",
       "    </tr>\n",
       "    <tr>\n",
       "      <th>88</th>\n",
       "      <td>Top_100_avg</td>\n",
       "      <td>2023-12-11</td>\n",
       "      <td>0.670474</td>\n",
       "    </tr>\n",
       "    <tr>\n",
       "      <th>89</th>\n",
       "      <td>Top_100_avg</td>\n",
       "      <td>2023-12-12</td>\n",
       "      <td>0.707463</td>\n",
       "    </tr>\n",
       "    <tr>\n",
       "      <th>90</th>\n",
       "      <td>Top_100_avg</td>\n",
       "      <td>2023-12-13</td>\n",
       "      <td>0.730738</td>\n",
       "    </tr>\n",
       "    <tr>\n",
       "      <th>91</th>\n",
       "      <td>Top_100_avg</td>\n",
       "      <td>2023-12-14</td>\n",
       "      <td>0.697299</td>\n",
       "    </tr>\n",
       "  </tbody>\n",
       "</table>\n",
       "<p>92 rows × 3 columns</p>\n",
       "</div>"
      ],
      "text/plain": [
       "        Company        Date     score\n",
       "0      Alphabet  2023-11-14  0.998800\n",
       "1      Alphabet  2023-11-15  0.998388\n",
       "2      Alphabet  2023-11-16  0.853371\n",
       "3      Alphabet  2023-11-18  0.908140\n",
       "4      Alphabet  2023-11-19  0.234078\n",
       "..          ...         ...       ...\n",
       "87  Top_100_avg  2023-12-10  0.688651\n",
       "88  Top_100_avg  2023-12-11  0.670474\n",
       "89  Top_100_avg  2023-12-12  0.707463\n",
       "90  Top_100_avg  2023-12-13  0.730738\n",
       "91  Top_100_avg  2023-12-14  0.697299\n",
       "\n",
       "[92 rows x 3 columns]"
      ]
     },
     "execution_count": 76,
     "metadata": {},
     "output_type": "execute_result"
    }
   ],
   "source": [
    "create_scored_data_history(\"data/reddit_fetched_post.csv\", \"data/reddit_fetched_post_top100_avg_score.csv\", True)"
   ]
  },
  {
   "cell_type": "code",
   "execution_count": null,
   "metadata": {},
   "outputs": [],
   "source": []
  }
 ],
 "metadata": {
  "kernelspec": {
   "display_name": "venv",
   "language": "python",
   "name": "python3"
  },
  "language_info": {
   "codemirror_mode": {
    "name": "ipython",
    "version": 3
   },
   "file_extension": ".py",
   "mimetype": "text/x-python",
   "name": "python",
   "nbconvert_exporter": "python",
   "pygments_lexer": "ipython3",
   "version": "3.9.7"
  }
 },
 "nbformat": 4,
 "nbformat_minor": 2
}
